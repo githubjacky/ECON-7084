{
 "cells": [
  {
   "cell_type": "code",
   "execution_count": null,
   "metadata": {},
   "outputs": [],
   "source": [
    "# activate the environment\n",
    "using Pkg; Pkg.activate(\".\")\n",
    "\n",
    "# import the packages\n",
    "using DataFrames, Distributions, Random, CSV, Plots\n",
    "import StatsFuns: normpdf, normcdf"
   ]
  },
  {
   "cell_type": "markdown",
   "metadata": {},
   "source": [
    "### 2 Sign up NBER working paper series\n",
    "1. what is the title of second paper listed on the NBER weekly working paper series(either from Sep. 5, Sep. 12, or Sep. 19)\n",
    "  \n",
    "- It's \"Secessionism Mostly About Incom or Inequality? A Global Analysis of 3,003 Subnational Regions\""
   ]
  },
  {
   "cell_type": "markdown",
   "metadata": {},
   "source": [
    "### 3 Sign up SRDA \n",
    "3. Which year did you download\n",
    "\n",
    "- 2020\n",
    "\n",
    "4. Plot rate of working against age(x-axis: mean of wrok dummy, y-axis: age) using ggplot2"
   ]
  },
  {
   "cell_type": "code",
   "execution_count": 7,
   "metadata": {},
   "outputs": [
    {
     "data": {
      "text/html": [
       "<div class=\"data-frame\"><p>5,799 rows × 1,063 columns (omitted printing of 1052 columns)</p><table class=\"data-frame\"><thead><tr><th></th><th>x01</th><th>x01a</th><th>x01b</th><th>x01c</th><th>x01d</th><th>x01e</th><th>x01f</th><th>x02</th><th>x03z01</th><th>x03z02</th><th>x03z03</th></tr><tr><th></th><th title=\"Int64\">Int64</th><th title=\"Int64\">Int64</th><th title=\"Int64\">Int64</th><th title=\"Int64\">Int64</th><th title=\"Int64\">Int64</th><th title=\"Int64\">Int64</th><th title=\"Int64\">Int64</th><th title=\"Int64\">Int64</th><th title=\"Int64\">Int64</th><th title=\"Int64\">Int64</th><th title=\"Int64\">Int64</th></tr></thead><tbody><tr><th>1</th><td>10020</td><td>1</td><td>1</td><td>1</td><td>1002</td><td>0</td><td>4</td><td>2020</td><td>1</td><td>26</td><td>23</td></tr><tr><th>2</th><td>10021</td><td>3</td><td>6</td><td>1</td><td>1002</td><td>1</td><td>4</td><td>2020</td><td>1</td><td>18</td><td>23</td></tr><tr><th>3</th><td>10022</td><td>3</td><td>6</td><td>1</td><td>1002</td><td>2</td><td>4</td><td>2020</td><td>1</td><td>9</td><td>8</td></tr><tr><th>4</th><td>10023</td><td>3</td><td>6</td><td>1</td><td>1002</td><td>3</td><td>4</td><td>2020</td><td>1</td><td>10</td><td>6</td></tr><tr><th>5</th><td>10040</td><td>1</td><td>1</td><td>1</td><td>1004</td><td>0</td><td>2</td><td>2020</td><td>2</td><td>7</td><td>20</td></tr><tr><th>6</th><td>10041</td><td>3</td><td>6</td><td>1</td><td>1004</td><td>1</td><td>4</td><td>2020</td><td>1</td><td>15</td><td>3</td></tr><tr><th>7</th><td>10042</td><td>3</td><td>6</td><td>1</td><td>1004</td><td>2</td><td>2</td><td>2020</td><td>1</td><td>20</td><td>11</td></tr><tr><th>8</th><td>10050</td><td>1</td><td>1</td><td>1</td><td>1005</td><td>0</td><td>2</td><td>2020</td><td>2</td><td>18</td><td>16</td></tr><tr><th>9</th><td>10051</td><td>3</td><td>6</td><td>1</td><td>1005</td><td>1</td><td>4</td><td>2020</td><td>2</td><td>9</td><td>2</td></tr><tr><th>10</th><td>10120</td><td>1</td><td>1</td><td>1</td><td>1012</td><td>0</td><td>4</td><td>2020</td><td>1</td><td>20</td><td>22</td></tr><tr><th>11</th><td>10121</td><td>3</td><td>6</td><td>1</td><td>1012</td><td>1</td><td>4</td><td>2020</td><td>1</td><td>16</td><td>16</td></tr><tr><th>12</th><td>10122</td><td>3</td><td>6</td><td>1</td><td>1012</td><td>2</td><td>4</td><td>2020</td><td>1</td><td>9</td><td>18</td></tr><tr><th>13</th><td>10130</td><td>1</td><td>1</td><td>1</td><td>1013</td><td>0</td><td>2</td><td>2020</td><td>1</td><td>14</td><td>9</td></tr><tr><th>14</th><td>10131</td><td>3</td><td>6</td><td>1</td><td>1013</td><td>1</td><td>2</td><td>2020</td><td>1</td><td>31</td><td>19</td></tr><tr><th>15</th><td>10132</td><td>3</td><td>6</td><td>1</td><td>1013</td><td>2</td><td>2</td><td>2020</td><td>2</td><td>15</td><td>13</td></tr><tr><th>16</th><td>10200</td><td>1</td><td>1</td><td>1</td><td>1020</td><td>0</td><td>2</td><td>2020</td><td>1</td><td>24</td><td>10</td></tr><tr><th>17</th><td>10201</td><td>3</td><td>6</td><td>1</td><td>1020</td><td>1</td><td>2</td><td>2020</td><td>2</td><td>4</td><td>15</td></tr><tr><th>18</th><td>10210</td><td>1</td><td>1</td><td>1</td><td>1021</td><td>0</td><td>2</td><td>2020</td><td>1</td><td>31</td><td>13</td></tr><tr><th>19</th><td>10211</td><td>3</td><td>6</td><td>1</td><td>1021</td><td>1</td><td>2</td><td>2020</td><td>2</td><td>12</td><td>15</td></tr><tr><th>20</th><td>10212</td><td>3</td><td>6</td><td>1</td><td>1021</td><td>2</td><td>2</td><td>2020</td><td>1</td><td>28</td><td>10</td></tr><tr><th>21</th><td>10241</td><td>3</td><td>6</td><td>1</td><td>1024</td><td>1</td><td>4</td><td>2020</td><td>1</td><td>26</td><td>23</td></tr><tr><th>22</th><td>10242</td><td>3</td><td>6</td><td>1</td><td>1024</td><td>2</td><td>4</td><td>2020</td><td>1</td><td>14</td><td>19</td></tr><tr><th>23</th><td>10251</td><td>3</td><td>6</td><td>1</td><td>1025</td><td>1</td><td>2</td><td>2020</td><td>2</td><td>18</td><td>18</td></tr><tr><th>24</th><td>10252</td><td>3</td><td>6</td><td>1</td><td>1025</td><td>2</td><td>4</td><td>2020</td><td>1</td><td>15</td><td>1</td></tr><tr><th>&vellip;</th><td>&vellip;</td><td>&vellip;</td><td>&vellip;</td><td>&vellip;</td><td>&vellip;</td><td>&vellip;</td><td>&vellip;</td><td>&vellip;</td><td>&vellip;</td><td>&vellip;</td><td>&vellip;</td></tr></tbody></table></div>"
      ],
      "text/latex": [
       "\\begin{tabular}{r|cccccccccccc}\n",
       "\t& x01 & x01a & x01b & x01c & x01d & x01e & x01f & x02 & x03z01 & x03z02 & x03z03 & \\\\\n",
       "\t\\hline\n",
       "\t& Int64 & Int64 & Int64 & Int64 & Int64 & Int64 & Int64 & Int64 & Int64 & Int64 & Int64 & \\\\\n",
       "\t\\hline\n",
       "\t1 & 10020 & 1 & 1 & 1 & 1002 & 0 & 4 & 2020 & 1 & 26 & 23 & $\\dots$ \\\\\n",
       "\t2 & 10021 & 3 & 6 & 1 & 1002 & 1 & 4 & 2020 & 1 & 18 & 23 & $\\dots$ \\\\\n",
       "\t3 & 10022 & 3 & 6 & 1 & 1002 & 2 & 4 & 2020 & 1 & 9 & 8 & $\\dots$ \\\\\n",
       "\t4 & 10023 & 3 & 6 & 1 & 1002 & 3 & 4 & 2020 & 1 & 10 & 6 & $\\dots$ \\\\\n",
       "\t5 & 10040 & 1 & 1 & 1 & 1004 & 0 & 2 & 2020 & 2 & 7 & 20 & $\\dots$ \\\\\n",
       "\t6 & 10041 & 3 & 6 & 1 & 1004 & 1 & 4 & 2020 & 1 & 15 & 3 & $\\dots$ \\\\\n",
       "\t7 & 10042 & 3 & 6 & 1 & 1004 & 2 & 2 & 2020 & 1 & 20 & 11 & $\\dots$ \\\\\n",
       "\t8 & 10050 & 1 & 1 & 1 & 1005 & 0 & 2 & 2020 & 2 & 18 & 16 & $\\dots$ \\\\\n",
       "\t9 & 10051 & 3 & 6 & 1 & 1005 & 1 & 4 & 2020 & 2 & 9 & 2 & $\\dots$ \\\\\n",
       "\t10 & 10120 & 1 & 1 & 1 & 1012 & 0 & 4 & 2020 & 1 & 20 & 22 & $\\dots$ \\\\\n",
       "\t11 & 10121 & 3 & 6 & 1 & 1012 & 1 & 4 & 2020 & 1 & 16 & 16 & $\\dots$ \\\\\n",
       "\t12 & 10122 & 3 & 6 & 1 & 1012 & 2 & 4 & 2020 & 1 & 9 & 18 & $\\dots$ \\\\\n",
       "\t13 & 10130 & 1 & 1 & 1 & 1013 & 0 & 2 & 2020 & 1 & 14 & 9 & $\\dots$ \\\\\n",
       "\t14 & 10131 & 3 & 6 & 1 & 1013 & 1 & 2 & 2020 & 1 & 31 & 19 & $\\dots$ \\\\\n",
       "\t15 & 10132 & 3 & 6 & 1 & 1013 & 2 & 2 & 2020 & 2 & 15 & 13 & $\\dots$ \\\\\n",
       "\t16 & 10200 & 1 & 1 & 1 & 1020 & 0 & 2 & 2020 & 1 & 24 & 10 & $\\dots$ \\\\\n",
       "\t17 & 10201 & 3 & 6 & 1 & 1020 & 1 & 2 & 2020 & 2 & 4 & 15 & $\\dots$ \\\\\n",
       "\t18 & 10210 & 1 & 1 & 1 & 1021 & 0 & 2 & 2020 & 1 & 31 & 13 & $\\dots$ \\\\\n",
       "\t19 & 10211 & 3 & 6 & 1 & 1021 & 1 & 2 & 2020 & 2 & 12 & 15 & $\\dots$ \\\\\n",
       "\t20 & 10212 & 3 & 6 & 1 & 1021 & 2 & 2 & 2020 & 1 & 28 & 10 & $\\dots$ \\\\\n",
       "\t21 & 10241 & 3 & 6 & 1 & 1024 & 1 & 4 & 2020 & 1 & 26 & 23 & $\\dots$ \\\\\n",
       "\t22 & 10242 & 3 & 6 & 1 & 1024 & 2 & 4 & 2020 & 1 & 14 & 19 & $\\dots$ \\\\\n",
       "\t23 & 10251 & 3 & 6 & 1 & 1025 & 1 & 2 & 2020 & 2 & 18 & 18 & $\\dots$ \\\\\n",
       "\t24 & 10252 & 3 & 6 & 1 & 1025 & 2 & 4 & 2020 & 1 & 15 & 1 & $\\dots$ \\\\\n",
       "\t$\\dots$ & $\\dots$ & $\\dots$ & $\\dots$ & $\\dots$ & $\\dots$ & $\\dots$ & $\\dots$ & $\\dots$ & $\\dots$ & $\\dots$ & $\\dots$ &  \\\\\n",
       "\\end{tabular}\n"
      ],
      "text/plain": [
       "\u001b[1m5799×1063 DataFrame\u001b[0m\n",
       "\u001b[1m  Row \u001b[0m│\u001b[1m x01     \u001b[0m\u001b[1m x01a  \u001b[0m\u001b[1m x01b  \u001b[0m\u001b[1m x01c  \u001b[0m\u001b[1m x01d   \u001b[0m\u001b[1m x01e  \u001b[0m\u001b[1m x01f  \u001b[0m\u001b[1m x02   \u001b[0m\u001b[1m x03z01 \u001b[0m\u001b[1m x03\u001b[0m ⋯\n",
       "\u001b[1m      \u001b[0m│\u001b[90m Int64   \u001b[0m\u001b[90m Int64 \u001b[0m\u001b[90m Int64 \u001b[0m\u001b[90m Int64 \u001b[0m\u001b[90m Int64  \u001b[0m\u001b[90m Int64 \u001b[0m\u001b[90m Int64 \u001b[0m\u001b[90m Int64 \u001b[0m\u001b[90m Int64  \u001b[0m\u001b[90m Int\u001b[0m ⋯\n",
       "──────┼─────────────────────────────────────────────────────────────────────────\n",
       "    1 │   10020      1      1      1    1002      0      4   2020       1      ⋯\n",
       "    2 │   10021      3      6      1    1002      1      4   2020       1\n",
       "    3 │   10022      3      6      1    1002      2      4   2020       1\n",
       "    4 │   10023      3      6      1    1002      3      4   2020       1\n",
       "    5 │   10040      1      1      1    1004      0      2   2020       2      ⋯\n",
       "    6 │   10041      3      6      1    1004      1      4   2020       1\n",
       "    7 │   10042      3      6      1    1004      2      2   2020       1\n",
       "    8 │   10050      1      1      1    1005      0      2   2020       2\n",
       "  ⋮   │    ⋮       ⋮      ⋮      ⋮      ⋮       ⋮      ⋮      ⋮      ⋮       ⋮ ⋱\n",
       " 5793 │ 9734210      1      5      1  973421      0      2   2020       1      ⋯\n",
       " 5794 │ 9734220      1      5      1  973422      0      2   2020       1\n",
       " 5795 │ 9814050      1      5      1  981405      0      4   2020       1\n",
       " 5796 │ 9814060      1      5      1  981406      0      4   2020       2\n",
       " 5797 │ 9814110      1      5      1  981411      0      4   2020       2      ⋯\n",
       " 5798 │ 9814170      1      5      1  981417      0      2   2020       2\n",
       " 5799 │ 9814180      1      5      1  981418      0      2   2020       1\n",
       "\u001b[36m                                              1054 columns and 5784 rows omitted\u001b[0m"
      ]
     },
     "metadata": {},
     "output_type": "display_data"
    }
   ],
   "source": [
    "PSFD_2020 = DataFrame(CSV.File(\"C00377_1/psfd_rr2020_v202208_csv.csv\"))"
   ]
  },
  {
   "cell_type": "code",
   "execution_count": null,
   "metadata": {},
   "outputs": [],
   "source": [
    "age = 111 .- PSFD_2020.a02a\n",
    "y = unique(age)\n",
    "index = [findall(x->x==i, age) for i in y]\n",
    "work = PSFD_2020.w03\n",
    "x = [mean(work[i]) for i in index]\n",
    "scatter(x, y, label=\"\", xlabel=\"average working dummy\", ylabel=\"age\")"
   ]
  },
  {
   "cell_type": "markdown",
   "metadata": {},
   "source": [
    "### 4 Roy Model\n",
    "##### 4.1 Review\n",
    "1. show that \n",
    "- $\\mathbb{E}[w_0|I] = \\mu_0 + \\frac{\\sigma_0\\sigma_1}{\\sigma_v}(\\rho-\\frac{\\sigma_0}{\\sigma_1})(\\frac{\\phi(z)}{1-\\Phi(z)})$\n",
    "- $\\mathbb{E}[w_1|I] = \\mu_1 + \\frac{\\sigma_0\\sigma_1}{\\sigma_v}(\\frac{\\sigma_1}{\\sigma_1}-\\rho)(\\frac{\\phi(z)}{1-\\Phi(z)})$"
   ]
  },
  {
   "cell_type": "markdown",
   "metadata": {},
   "source": [
    "$$\n",
    "    \\mathbb{E}[w_0|I] = \\mathbb{E}[\\mu_0+\\epsilon_0 | \\mu_1+\\epsilon_1-C > \\mu_0 + \\epsilon_0]\n",
    "    =\\mathbb{E}[\\mu_0+\\epsilon_0 | \\epsilon_1-\\epsilon_0 > \\mu_0 - \\mu_1 + C] \\\\\n",
    "    =\\mathbb{E}[\\mu_0+\\epsilon_0 | \\frac{\\epsilon_1-\\epsilon_0}{\\sigma_v} > \\frac{\\mu_0 - \\mu_1 + C}{\\sigma_v}] =\\mathbb{E}[\\mu_0+\\epsilon_0 | \\frac{v}{\\sigma_v} > Z]\n",
    "    =\\mu_0+\\sigma_0\\mathbb{E}[\\frac{\\epsilon_0}{\\sigma_0} | \\frac{v}{\\sigma_v} > Z]\n",
    "$$\n",
    "$$\n",
    "    \\mathbb{E}[\\frac{\\epsilon_0}{\\sigma_0} | \\frac{v}{\\sigma_v}] = \\frac{\\mathbb{Cov}[\\frac{\\epsilon_0}{\\sigma_0}, \\frac{v}{\\sigma_v}]}{\\mathbb{Var}[\\frac{v}{\\sigma_v}]}\\frac{v}{\\sigma_v}\n",
    "    =\\frac{1}{\\sigma_0\\sigma_v}\\mathbb{Cov}[\\epsilon_0, v]\\frac{v}{\\sigma_v}\n",
    "    =\\frac{\\sigma_{0,v}}{\\sigma_0\\sigma_v}\\frac{v}{\\sigma_v}\n",
    "    =\\rho_{0, v}\\frac{v}{\\sigma_v}\n",
    "$$\n",
    "$$\n",
    "   \\mathbb{E}[w_0|I] = \\mu_0+\\sigma_0\\mathbb{E}[\\frac{\\epsilon_0}{\\sigma_0} | \\frac{v}{\\sigma_v} > Z]\n",
    "   = \\mu_0+\\sigma_0\\mathbb{E}[\\mathbb{E}[\\frac{\\epsilon_0}{\\sigma_0} | \\frac{v}{\\sigma_v}] | \\frac{v}{\\sigma_v} > Z]\n",
    "   =\\mu_0+\\sigma_0\\mathbb{E}[\\rho_{0, v}\\frac{v}{\\sigma_v} | \\frac{v}{\\sigma_v} > Z]\\\\\n",
    "   =\\mu_0+\\sigma_0\\rho_{0, v}\\mathbb{E}[\\frac{v}{\\sigma_v} | \\frac{v}{\\sigma_v} > Z] \n",
    "$$\n",
    "$$\n",
    "    \\mathbb{E}[\\frac{v}{\\sigma_v} | \\frac{v}{\\sigma_v} > Z] = \\int_Z^{\\infty} \\frac{v}{\\sigma_v}\\phi(\\frac{v}{\\sigma_v})\\frac{1}{1-\\Phi(Z)}d\\frac{v}{\\sigma_v}\n",
    "    =\\frac{-1}{1-\\Phi(Z)} \\int_Z^{\\infty}-x\\phi(x)dx, \\ where \\ x=\\frac{v}{\\sigma_v}\n",
    "    =\\frac{-1}{1-\\Phi(Z)} \\phi(x) |_z^{\\infty} \\\\\n",
    "    =\\frac{\\phi(Z)}{1-\\Phi(Z)} \n",
    "$$\n",
    "$$\n",
    "   \\mathbb{E}[w_0|I]=\\mu_0+\\sigma_0\\rho_{0, v}\\mathbb{E}[\\frac{v}{\\sigma_v} | \\frac{v}{\\sigma_v} > Z]\n",
    "   =\\mu_0+\\sigma_0\\rho_{0, v}\\frac{\\phi(Z)}{1-\\Phi(Z)}\n",
    "$$\n",
    "$$\n",
    "    \\sigma_0\\rho_{0, v}=\\sigma_0\\frac{\\sigma_{0, v}}{\\sigma_0\\sigma_v}=\\mathbb{Cov}[\\epsilon_0, \\epsilon_1-\\epsilon_0]\\frac{1}{\\sigma_v}\n",
    "    =\\frac{\\sigma_0\\sigma_1}{\\sigma_v}(\\frac{\\sigma_{0, 1}}{\\sigma_0\\sigma_1}-\\frac{\\sigma_0}{\\sigma_1})\n",
    "    = \\frac{\\sigma_0\\sigma_1}{\\sigma_v}(\\rho-\\frac{\\sigma_0}{\\sigma_1})\n",
    "$$\n",
    "$$\n",
    "    \\Rightarrow\\mathbb{E}[w_0|I] = \\mu_0 + \\frac{\\sigma_0\\sigma_1}{\\sigma_v}(\\rho-\\frac{\\sigma_0}{\\sigma_1})\\frac{\\phi(Z)}{1-\\Phi(Z)}\n",
    "$$"
   ]
  },
  {
   "cell_type": "markdown",
   "metadata": {},
   "source": [
    "- with similar calculatio, we can prove that $\\mathbb{E}[w_1|I] = \\mu_1 + \\frac{\\sigma_0\\sigma_1}{\\sigma_v}(\\frac{\\sigma_1}{\\sigma_1}-\\rho)(\\frac{\\phi(z)}{1-\\Phi(z)})$"
   ]
  },
  {
   "cell_type": "markdown",
   "metadata": {},
   "source": [
    "2. \n",
    "- if $Q_0>0, Q_1<0$ then $\\rho>\\frac{\\sigma_0}{\\sigma_1}$ and $\\rho>\\frac{\\sigma_1}{\\sigma_0}$ \n",
    "- but since $0\\leq\\rho\\leq1, \\rho^2 > \\frac{\\sigma_0}{\\sigma_1}\\frac{\\sigma_1}{\\sigma_0}=1$\n",
    "- there is an contradiction"
   ]
  },
  {
   "cell_type": "markdown",
   "metadata": {},
   "source": [
    "##### 4.2 Simulation"
   ]
  },
  {
   "cell_type": "code",
   "execution_count": 57,
   "metadata": {},
   "outputs": [],
   "source": [
    "# 1. Picy your favorite value for this set of parameters(μ₀, μ₁, σ₀, σ₁, σ₀₁, C)\n",
    "μ₀, μ₁, σ₀, σ₁, σ₀₁, C = 400., 420., .8, 1.2, .75, 20\n",
    "ρ = σ₀₁ / (σ₀*σ₁)\n",
    "n = Int(1e7);"
   ]
  },
  {
   "cell_type": "code",
   "execution_count": 81,
   "metadata": {},
   "outputs": [
    {
     "data": {
      "text/html": [
       "<div class=\"data-frame\"><p>10,000,000 rows × 6 columns</p><table class=\"data-frame\"><thead><tr><th></th><th>ϵ₁</th><th>ϵ₀</th><th>C</th><th>w₁</th><th>w₀</th><th>I</th></tr><tr><th></th><th title=\"Float64\">Float64</th><th title=\"Float64\">Float64</th><th title=\"Int64\">Int64</th><th title=\"Float64\">Float64</th><th title=\"Float64\">Float64</th><th title=\"Bool\">Bool</th></tr></thead><tbody><tr><th>1</th><td>-0.721825</td><td>0.618839</td><td>20</td><td>419.278</td><td>400.619</td><td>0</td></tr><tr><th>2</th><td>0.0935078</td><td>0.0455767</td><td>20</td><td>420.094</td><td>400.046</td><td>1</td></tr><tr><th>3</th><td>-0.741451</td><td>0.296639</td><td>20</td><td>419.259</td><td>400.297</td><td>0</td></tr><tr><th>4</th><td>-0.253386</td><td>0.297355</td><td>20</td><td>419.747</td><td>400.297</td><td>0</td></tr><tr><th>5</th><td>0.197906</td><td>0.632483</td><td>20</td><td>420.198</td><td>400.632</td><td>0</td></tr><tr><th>6</th><td>0.69288</td><td>-0.50454</td><td>20</td><td>420.693</td><td>399.495</td><td>1</td></tr><tr><th>7</th><td>-0.547115</td><td>0.3525</td><td>20</td><td>419.453</td><td>400.352</td><td>0</td></tr><tr><th>8</th><td>-1.16647</td><td>-0.351637</td><td>20</td><td>418.834</td><td>399.648</td><td>0</td></tr><tr><th>9</th><td>1.30179</td><td>-0.807006</td><td>20</td><td>421.302</td><td>399.193</td><td>1</td></tr><tr><th>10</th><td>0.991696</td><td>-0.45124</td><td>20</td><td>420.992</td><td>399.549</td><td>1</td></tr><tr><th>11</th><td>1.2424</td><td>-0.029676</td><td>20</td><td>421.242</td><td>399.97</td><td>1</td></tr><tr><th>12</th><td>2.29925</td><td>-0.623386</td><td>20</td><td>422.299</td><td>399.377</td><td>1</td></tr><tr><th>13</th><td>-0.334257</td><td>-0.092339</td><td>20</td><td>419.666</td><td>399.908</td><td>0</td></tr><tr><th>14</th><td>-1.6437</td><td>0.215665</td><td>20</td><td>418.356</td><td>400.216</td><td>0</td></tr><tr><th>15</th><td>0.772854</td><td>-0.270848</td><td>20</td><td>420.773</td><td>399.729</td><td>1</td></tr><tr><th>16</th><td>1.47347</td><td>1.58724</td><td>20</td><td>421.473</td><td>401.587</td><td>0</td></tr><tr><th>17</th><td>1.35739</td><td>1.01551</td><td>20</td><td>421.357</td><td>401.016</td><td>1</td></tr><tr><th>18</th><td>-1.5337</td><td>-1.48578</td><td>20</td><td>418.466</td><td>398.514</td><td>0</td></tr><tr><th>19</th><td>-1.34273</td><td>-0.132762</td><td>20</td><td>418.657</td><td>399.867</td><td>0</td></tr><tr><th>20</th><td>-1.57348</td><td>-0.543458</td><td>20</td><td>418.427</td><td>399.457</td><td>0</td></tr><tr><th>21</th><td>1.81152</td><td>-0.647007</td><td>20</td><td>421.812</td><td>399.353</td><td>1</td></tr><tr><th>22</th><td>-3.32094</td><td>-0.773529</td><td>20</td><td>416.679</td><td>399.226</td><td>0</td></tr><tr><th>23</th><td>2.17702</td><td>0.433617</td><td>20</td><td>422.177</td><td>400.434</td><td>1</td></tr><tr><th>24</th><td>0.891281</td><td>-0.999437</td><td>20</td><td>420.891</td><td>399.001</td><td>1</td></tr><tr><th>&vellip;</th><td>&vellip;</td><td>&vellip;</td><td>&vellip;</td><td>&vellip;</td><td>&vellip;</td><td>&vellip;</td></tr></tbody></table></div>"
      ],
      "text/latex": [
       "\\begin{tabular}{r|cccccc}\n",
       "\t& ϵ₁ & ϵ₀ & C & w₁ & w₀ & I\\\\\n",
       "\t\\hline\n",
       "\t& Float64 & Float64 & Int64 & Float64 & Float64 & Bool\\\\\n",
       "\t\\hline\n",
       "\t1 & -0.721825 & 0.618839 & 20 & 419.278 & 400.619 & 0 \\\\\n",
       "\t2 & 0.0935078 & 0.0455767 & 20 & 420.094 & 400.046 & 1 \\\\\n",
       "\t3 & -0.741451 & 0.296639 & 20 & 419.259 & 400.297 & 0 \\\\\n",
       "\t4 & -0.253386 & 0.297355 & 20 & 419.747 & 400.297 & 0 \\\\\n",
       "\t5 & 0.197906 & 0.632483 & 20 & 420.198 & 400.632 & 0 \\\\\n",
       "\t6 & 0.69288 & -0.50454 & 20 & 420.693 & 399.495 & 1 \\\\\n",
       "\t7 & -0.547115 & 0.3525 & 20 & 419.453 & 400.352 & 0 \\\\\n",
       "\t8 & -1.16647 & -0.351637 & 20 & 418.834 & 399.648 & 0 \\\\\n",
       "\t9 & 1.30179 & -0.807006 & 20 & 421.302 & 399.193 & 1 \\\\\n",
       "\t10 & 0.991696 & -0.45124 & 20 & 420.992 & 399.549 & 1 \\\\\n",
       "\t11 & 1.2424 & -0.029676 & 20 & 421.242 & 399.97 & 1 \\\\\n",
       "\t12 & 2.29925 & -0.623386 & 20 & 422.299 & 399.377 & 1 \\\\\n",
       "\t13 & -0.334257 & -0.092339 & 20 & 419.666 & 399.908 & 0 \\\\\n",
       "\t14 & -1.6437 & 0.215665 & 20 & 418.356 & 400.216 & 0 \\\\\n",
       "\t15 & 0.772854 & -0.270848 & 20 & 420.773 & 399.729 & 1 \\\\\n",
       "\t16 & 1.47347 & 1.58724 & 20 & 421.473 & 401.587 & 0 \\\\\n",
       "\t17 & 1.35739 & 1.01551 & 20 & 421.357 & 401.016 & 1 \\\\\n",
       "\t18 & -1.5337 & -1.48578 & 20 & 418.466 & 398.514 & 0 \\\\\n",
       "\t19 & -1.34273 & -0.132762 & 20 & 418.657 & 399.867 & 0 \\\\\n",
       "\t20 & -1.57348 & -0.543458 & 20 & 418.427 & 399.457 & 0 \\\\\n",
       "\t21 & 1.81152 & -0.647007 & 20 & 421.812 & 399.353 & 1 \\\\\n",
       "\t22 & -3.32094 & -0.773529 & 20 & 416.679 & 399.226 & 0 \\\\\n",
       "\t23 & 2.17702 & 0.433617 & 20 & 422.177 & 400.434 & 1 \\\\\n",
       "\t24 & 0.891281 & -0.999437 & 20 & 420.891 & 399.001 & 1 \\\\\n",
       "\t$\\dots$ & $\\dots$ & $\\dots$ & $\\dots$ & $\\dots$ & $\\dots$ & $\\dots$ \\\\\n",
       "\\end{tabular}\n"
      ],
      "text/plain": [
       "\u001b[1m10000000×6 DataFrame\u001b[0m\n",
       "\u001b[1m      Row \u001b[0m│\u001b[1m ϵ₁         \u001b[0m\u001b[1m ϵ₀         \u001b[0m\u001b[1m C     \u001b[0m\u001b[1m w₁      \u001b[0m\u001b[1m w₀      \u001b[0m\u001b[1m I     \u001b[0m\n",
       "\u001b[1m          \u001b[0m│\u001b[90m Float64    \u001b[0m\u001b[90m Float64    \u001b[0m\u001b[90m Int64 \u001b[0m\u001b[90m Float64 \u001b[0m\u001b[90m Float64 \u001b[0m\u001b[90m Bool  \u001b[0m\n",
       "──────────┼────────────────────────────────────────────────────────\n",
       "        1 │ -0.721825    0.618839      20  419.278  400.619  false\n",
       "        2 │  0.0935078   0.0455767     20  420.094  400.046   true\n",
       "        3 │ -0.741451    0.296639      20  419.259  400.297  false\n",
       "        4 │ -0.253386    0.297355      20  419.747  400.297  false\n",
       "        5 │  0.197906    0.632483      20  420.198  400.632  false\n",
       "        6 │  0.69288    -0.50454       20  420.693  399.495   true\n",
       "        7 │ -0.547115    0.3525        20  419.453  400.352  false\n",
       "        8 │ -1.16647    -0.351637      20  418.834  399.648  false\n",
       "    ⋮     │     ⋮           ⋮         ⋮       ⋮        ⋮       ⋮\n",
       "  9999994 │ -0.549166    1.00155       20  419.451  401.002  false\n",
       "  9999995 │ -0.0849034  -0.732451      20  419.915  399.268   true\n",
       "  9999996 │  2.27056    -0.320002      20  422.271  399.68    true\n",
       "  9999997 │ -0.543053    0.851163      20  419.457  400.851  false\n",
       "  9999998 │ -2.44629    -0.0952312     20  417.554  399.905  false\n",
       "  9999999 │ -0.592463   -0.707577      20  419.408  399.292   true\n",
       " 10000000 │ -0.308477   -1.07335       20  419.692  398.927   true\n",
       "\u001b[36m                                               9999985 rows omitted\u001b[0m"
      ]
     },
     "metadata": {},
     "output_type": "display_data"
    }
   ],
   "source": [
    "Random.seed!(20220918)\n",
    "\n",
    "# 2. Simulate the ϵ₀, ϵ₁ for N=10 million individuals. Use a data.table to store this\n",
    "df1 = DataFrame(ϵ₁=rand(Normal(0, σ₁), n), ϵ₀=rand(Normal(0, σ₀), n), C=C)\n",
    "\n",
    "# 3. create the column for w₀, w₁\n",
    "df1.w₁ = μ₁ .+ df1.ϵ₁\n",
    "df1.w₀ = μ₀ .+ df1.ϵ₀\n",
    "\n",
    "# 4. Generate the column I that take binary value\n",
    "df1.I = df1.w₁ - df1.C .>= df1.w₀\n",
    "df1 |> display\n",
    "\n",
    "# 5. Calculater E[w₀|I], E[w₁|I], Q₀, Q₁ from data without invoking equation (1) (2)\n",
    "target = df1.I .== 1\n",
    "sample_mean_w₀ = mean(df1.w₀[target]) \n",
    "sample_mean_w₁ = mean(df1.w₁[target]);"
   ]
  },
  {
   "cell_type": "code",
   "execution_count": 59,
   "metadata": {},
   "outputs": [
    {
     "name": "stdout",
     "output_type": "stream",
     "text": [
      "sample_mean_w₀ = 399.6460778335462\n",
      "population_mean_w0 = 399.987213974369\n",
      "sample_mean_w₁ = 420.7962472057346\n",
      "population_mean_w1 = 419.9197967483148\n"
     ]
    },
    {
     "data": {
      "text/plain": [
       "419.9197967483148"
      ]
     },
     "metadata": {},
     "output_type": "display_data"
    }
   ],
   "source": [
    "# 6. Calcualte RHS of equaiotn (1) and (2) to compare with previous quesion\n",
    "σᵥ = std(df1.ϵ₁[index]-df1.ϵ₀[index])\n",
    "\n",
    "function population_mean_w₀(σᵥ=σᵥ, μ₀=μ₀, μ₁=μ₁, σ₀=σ₀, σ₁=σ₁, ρ=ρ, C=C)\n",
    "    Z = (μ₀-μ₁+C) / σᵥ\n",
    "    return μ₀ + (σ₀*σ₁/σᵥ) * (ρ-σ₀/σ₁) * (normpdf(Z)/1-normcdf(Z)) \n",
    "end\n",
    "function population_mean_w₁(σᵥ=σᵥ, μ₀=μ₀, μ₁=μ₁, σ₀=σ₀, σ₁=σ₁, ρ=ρ, C=C)\n",
    "    Z = (μ₀-μ₁+C) / σᵥ\n",
    "    μ₁ + (σ₀*σ₁/σᵥ) * (σ₁/σ₀-ρ) * (normpdf(Z)/1-normcdf(Z)) \n",
    "end\n",
    "\n",
    "population_mean_w0 = population_mean_w₀()\n",
    "population_mean_w1 = population_mean_w₁();\n",
    "\n",
    "@show sample_mean_w₀\n",
    "@show population_mean_w0\n",
    "\n",
    "@show sample_mean_w₁\n",
    "@show population_mean_w1"
   ]
  },
  {
   "cell_type": "markdown",
   "metadata": {},
   "source": [
    "7. Which columns are observed in the real world? Which of them are not?\n",
    "- If I == 1, then $w_0$ is unobservable \n",
    "- If I == 0, then $w_1$ is unobservable "
   ]
  },
  {
   "cell_type": "markdown",
   "metadata": {},
   "source": [
    "### 5 Roy Model is Everywhere\n",
    "1. Find an example in applied economics\n",
    "2. Use the Roy model notaion to write down a (simple version) of the research question\n",
    "3. Explain this to (any) other people use both the intuition and the mathematical frame-work"
   ]
  },
  {
   "cell_type": "markdown",
   "metadata": {},
   "source": [
    "### <span style=\"color:#EBCB8B\" >Extension: draw from joint distribution</span>\n",
    "#####  <span style=\"color:#D08770\">case 1: use the gibbs sampling algorithm</span>"
   ]
  },
  {
   "cell_type": "code",
   "execution_count": 70,
   "metadata": {},
   "outputs": [
    {
     "data": {
      "text/plain": [
       "gibbs_sampling (generic function with 1 method)"
      ]
     },
     "metadata": {},
     "output_type": "display_data"
    }
   ],
   "source": [
    "# 2. Simulate the ϵ₀, ϵ₁ for N=10 million individuals. Use a data.table to store this\n",
    "# use the gibbs sampling to simulate\n",
    "struct gibbs_parameter\n",
    "    μ₁::Float64\n",
    "    σ₁::Float64\n",
    "    μ₀::Float64\n",
    "    σ₀::Float64\n",
    "    ρ::Float64\n",
    "    n::Int64\n",
    "    seed::NamedTuple\n",
    "    skip::Int64\n",
    "end\n",
    "\n",
    "function gibbs_parameter(; μ₁, σ₁, μ₀, σ₀, ρ, n, seed, skip=100)\n",
    "    skip > n && error(\"the skip amount can not be larger than n\")\n",
    "    return gibbs_parameter(μ₁, σ₁, μ₀, σ₀, ρ, n, seed, skip)\n",
    "end\n",
    "\n",
    "# conditional on ϵ₁\n",
    "f(ϵ₁::Float64, p::gibbs_parameter) = rand(Normal(0+p.ρ*(p.σ₀/p.σ₁)*(ϵ₁-0),\n",
    "                                                 p.σ₀*sqrt(1-p.ρ^2)))\n",
    "# conditional on ϵ₀\n",
    "g(ϵ₀::Float64, p::gibbs_parameter) = rand(Normal(0+p.ρ*(p.σ₁/p.σ₀)*(ϵ₀-0),\n",
    "                                                 p.σ₁*sqrt(1-p.ρ^2)))\n",
    "\n",
    "\n",
    "function gibbs_sampling(θ::gibbs_parameter)\n",
    "    draw_ϵ₁, draw_ϵ₀, ϵ₀ = zeros(θ.n+θ.skip), zeros(θ.n+θ.skip), θ.seed.ϵ₀\n",
    "    for i = eachindex(draw_ϵ₁, draw_ϵ₀)\n",
    "        ϵ₁ = g(ϵ₀, θ)\n",
    "        ϵ₀ = f(ϵ₁, θ)\n",
    "        draw_ϵ₁[i] = ϵ₁\n",
    "        draw_ϵ₀[i] = ϵ₀\n",
    "    end\n",
    "    return DataFrame(ϵ₁=draw_ϵ₁[θ.skip+1:end], ϵ₀=draw_ϵ₀[θ.skip+1:end])\n",
    "end"
   ]
  },
  {
   "cell_type": "code",
   "execution_count": 73,
   "metadata": {},
   "outputs": [
    {
     "data": {
      "text/html": [
       "<div class=\"data-frame\"><p>10,000,000 rows × 6 columns</p><table class=\"data-frame\"><thead><tr><th></th><th>ϵ₁</th><th>ϵ₀</th><th>C</th><th>w₁</th><th>w₀</th><th>I</th></tr><tr><th></th><th title=\"Float64\">Float64</th><th title=\"Float64\">Float64</th><th title=\"Int64\">Int64</th><th title=\"Float64\">Float64</th><th title=\"Float64\">Float64</th><th title=\"Bool\">Bool</th></tr></thead><tbody><tr><th>1</th><td>-3.28694</td><td>-1.76677</td><td>20</td><td>416.713</td><td>398.233</td><td>0</td></tr><tr><th>2</th><td>-2.55181</td><td>-1.47456</td><td>20</td><td>417.448</td><td>398.525</td><td>0</td></tr><tr><th>3</th><td>-1.17335</td><td>-0.565652</td><td>20</td><td>418.827</td><td>399.434</td><td>0</td></tr><tr><th>4</th><td>-1.23777</td><td>-0.773905</td><td>20</td><td>418.762</td><td>399.226</td><td>0</td></tr><tr><th>5</th><td>-0.678212</td><td>-1.06055</td><td>20</td><td>419.322</td><td>398.939</td><td>1</td></tr><tr><th>6</th><td>-1.6945</td><td>-1.14807</td><td>20</td><td>418.305</td><td>398.852</td><td>0</td></tr><tr><th>7</th><td>-1.34753</td><td>-1.11344</td><td>20</td><td>418.652</td><td>398.887</td><td>0</td></tr><tr><th>8</th><td>-1.24361</td><td>-0.921706</td><td>20</td><td>418.756</td><td>399.078</td><td>0</td></tr><tr><th>9</th><td>-0.276827</td><td>-0.423708</td><td>20</td><td>419.723</td><td>399.576</td><td>1</td></tr><tr><th>10</th><td>-0.983233</td><td>0.250385</td><td>20</td><td>419.017</td><td>400.25</td><td>0</td></tr><tr><th>11</th><td>0.261329</td><td>-0.575959</td><td>20</td><td>420.261</td><td>399.424</td><td>1</td></tr><tr><th>12</th><td>-0.851754</td><td>-0.440053</td><td>20</td><td>419.148</td><td>399.56</td><td>0</td></tr><tr><th>13</th><td>-1.9463</td><td>-1.50805</td><td>20</td><td>418.054</td><td>398.492</td><td>0</td></tr><tr><th>14</th><td>-0.849558</td><td>0.41392</td><td>20</td><td>419.15</td><td>400.414</td><td>0</td></tr><tr><th>15</th><td>0.126693</td><td>0.147066</td><td>20</td><td>420.127</td><td>400.147</td><td>0</td></tr><tr><th>16</th><td>1.96738</td><td>0.646517</td><td>20</td><td>421.967</td><td>400.647</td><td>1</td></tr><tr><th>17</th><td>2.38974</td><td>0.997905</td><td>20</td><td>422.39</td><td>400.998</td><td>1</td></tr><tr><th>18</th><td>2.06732</td><td>1.56193</td><td>20</td><td>422.067</td><td>401.562</td><td>1</td></tr><tr><th>19</th><td>0.690534</td><td>-0.120777</td><td>20</td><td>420.691</td><td>399.879</td><td>1</td></tr><tr><th>20</th><td>-1.95957</td><td>-0.81266</td><td>20</td><td>418.04</td><td>399.187</td><td>0</td></tr><tr><th>21</th><td>-1.42004</td><td>-0.918192</td><td>20</td><td>418.58</td><td>399.082</td><td>0</td></tr><tr><th>22</th><td>-1.21109</td><td>-0.682995</td><td>20</td><td>418.789</td><td>399.317</td><td>0</td></tr><tr><th>23</th><td>-0.677134</td><td>-0.61718</td><td>20</td><td>419.323</td><td>399.383</td><td>0</td></tr><tr><th>24</th><td>0.682955</td><td>-0.268246</td><td>20</td><td>420.683</td><td>399.732</td><td>1</td></tr><tr><th>&vellip;</th><td>&vellip;</td><td>&vellip;</td><td>&vellip;</td><td>&vellip;</td><td>&vellip;</td><td>&vellip;</td></tr></tbody></table></div>"
      ],
      "text/latex": [
       "\\begin{tabular}{r|cccccc}\n",
       "\t& ϵ₁ & ϵ₀ & C & w₁ & w₀ & I\\\\\n",
       "\t\\hline\n",
       "\t& Float64 & Float64 & Int64 & Float64 & Float64 & Bool\\\\\n",
       "\t\\hline\n",
       "\t1 & -3.28694 & -1.76677 & 20 & 416.713 & 398.233 & 0 \\\\\n",
       "\t2 & -2.55181 & -1.47456 & 20 & 417.448 & 398.525 & 0 \\\\\n",
       "\t3 & -1.17335 & -0.565652 & 20 & 418.827 & 399.434 & 0 \\\\\n",
       "\t4 & -1.23777 & -0.773905 & 20 & 418.762 & 399.226 & 0 \\\\\n",
       "\t5 & -0.678212 & -1.06055 & 20 & 419.322 & 398.939 & 1 \\\\\n",
       "\t6 & -1.6945 & -1.14807 & 20 & 418.305 & 398.852 & 0 \\\\\n",
       "\t7 & -1.34753 & -1.11344 & 20 & 418.652 & 398.887 & 0 \\\\\n",
       "\t8 & -1.24361 & -0.921706 & 20 & 418.756 & 399.078 & 0 \\\\\n",
       "\t9 & -0.276827 & -0.423708 & 20 & 419.723 & 399.576 & 1 \\\\\n",
       "\t10 & -0.983233 & 0.250385 & 20 & 419.017 & 400.25 & 0 \\\\\n",
       "\t11 & 0.261329 & -0.575959 & 20 & 420.261 & 399.424 & 1 \\\\\n",
       "\t12 & -0.851754 & -0.440053 & 20 & 419.148 & 399.56 & 0 \\\\\n",
       "\t13 & -1.9463 & -1.50805 & 20 & 418.054 & 398.492 & 0 \\\\\n",
       "\t14 & -0.849558 & 0.41392 & 20 & 419.15 & 400.414 & 0 \\\\\n",
       "\t15 & 0.126693 & 0.147066 & 20 & 420.127 & 400.147 & 0 \\\\\n",
       "\t16 & 1.96738 & 0.646517 & 20 & 421.967 & 400.647 & 1 \\\\\n",
       "\t17 & 2.38974 & 0.997905 & 20 & 422.39 & 400.998 & 1 \\\\\n",
       "\t18 & 2.06732 & 1.56193 & 20 & 422.067 & 401.562 & 1 \\\\\n",
       "\t19 & 0.690534 & -0.120777 & 20 & 420.691 & 399.879 & 1 \\\\\n",
       "\t20 & -1.95957 & -0.81266 & 20 & 418.04 & 399.187 & 0 \\\\\n",
       "\t21 & -1.42004 & -0.918192 & 20 & 418.58 & 399.082 & 0 \\\\\n",
       "\t22 & -1.21109 & -0.682995 & 20 & 418.789 & 399.317 & 0 \\\\\n",
       "\t23 & -0.677134 & -0.61718 & 20 & 419.323 & 399.383 & 0 \\\\\n",
       "\t24 & 0.682955 & -0.268246 & 20 & 420.683 & 399.732 & 1 \\\\\n",
       "\t$\\dots$ & $\\dots$ & $\\dots$ & $\\dots$ & $\\dots$ & $\\dots$ & $\\dots$ \\\\\n",
       "\\end{tabular}\n"
      ],
      "text/plain": [
       "\u001b[1m10000000×6 DataFrame\u001b[0m\n",
       "\u001b[1m      Row \u001b[0m│\u001b[1m ϵ₁         \u001b[0m\u001b[1m ϵ₀          \u001b[0m\u001b[1m C     \u001b[0m\u001b[1m w₁      \u001b[0m\u001b[1m w₀      \u001b[0m\u001b[1m I     \u001b[0m\n",
       "\u001b[1m          \u001b[0m│\u001b[90m Float64    \u001b[0m\u001b[90m Float64     \u001b[0m\u001b[90m Int64 \u001b[0m\u001b[90m Float64 \u001b[0m\u001b[90m Float64 \u001b[0m\u001b[90m Bool  \u001b[0m\n",
       "──────────┼─────────────────────────────────────────────────────────\n",
       "        1 │ -3.28694    -1.76677        20  416.713  398.233  false\n",
       "        2 │ -2.55181    -1.47456        20  417.448  398.525  false\n",
       "        3 │ -1.17335    -0.565652       20  418.827  399.434  false\n",
       "        4 │ -1.23777    -0.773905       20  418.762  399.226  false\n",
       "        5 │ -0.678212   -1.06055        20  419.322  398.939   true\n",
       "        6 │ -1.6945     -1.14807        20  418.305  398.852  false\n",
       "        7 │ -1.34753    -1.11344        20  418.652  398.887  false\n",
       "        8 │ -1.24361    -0.921706       20  418.756  399.078  false\n",
       "    ⋮     │     ⋮            ⋮         ⋮       ⋮        ⋮       ⋮\n",
       "  9999994 │  0.360655    0.00563184     20  420.361  400.006   true\n",
       "  9999995 │  0.790515    0.277623       20  420.791  400.278   true\n",
       "  9999996 │  0.804961    0.293235       20  420.805  400.293   true\n",
       "  9999997 │  0.0757857   0.0564412      20  420.076  400.056   true\n",
       "  9999998 │  0.214452    0.41078        20  420.214  400.411  false\n",
       "  9999999 │  0.743993    0.781081       20  420.744  400.781  false\n",
       " 10000000 │  1.70095     1.48161        20  421.701  401.482   true\n",
       "\u001b[36m                                                9999985 rows omitted\u001b[0m"
      ]
     },
     "metadata": {},
     "output_type": "display_data"
    }
   ],
   "source": [
    "Random.seed!(20220918)\n",
    "param = gibbs_parameter(μ₁=μ₁, σ₁=σ₁, μ₀=μ₀, σ₀=σ₀, ρ=ρ, n=n, seed=(ϵ₁=65., ϵ₀=45.))\n",
    "df2 = gibbs_sampling(param)\n",
    "\n",
    "# 3. create the column for w₀, w₁\n",
    "df2.C .= C\n",
    "df2.w₁ = μ₁ .+ df2.ϵ₁\n",
    "df2.w₀ = μ₀ .+ df2.ϵ₀;\n",
    "\n",
    "# 4. Generate the column I that take binary value\n",
    "df2.I = df2.w₁ - df2.C .>= df2.w₀\n",
    "df2 |> display\n",
    "\n",
    "# 5. Calculater E[w₀|I], E[w₁|I], Q₀, Q₁ from data without invoking equation (1) (2)\n",
    "target = df2.I .== 1\n",
    "sample_mean_multi_w₀ = mean(df2.w₀[target]) \n",
    "sample_mean_multi_w₁s = mean(df2.w₁[target]);"
   ]
  },
  {
   "cell_type": "code",
   "execution_count": 74,
   "metadata": {},
   "outputs": [
    {
     "name": "stdout",
     "output_type": "stream",
     "text": [
      "sample_mean_w₀s = 400.11553450284964\n",
      "population_mean_w0 = 399.987213974369\n",
      "sample_mean_w₁s = 420.72346161301886\n",
      "population_mean_w1 = 419.9197967483148\n"
     ]
    },
    {
     "data": {
      "text/plain": [
       "419.9197967483148"
      ]
     },
     "metadata": {},
     "output_type": "display_data"
    }
   ],
   "source": [
    "# 6. Calcualte RHS of equaiotn (1) and (2) to compare with previous quesion\n",
    "σᵥ = std(df2.ϵ₁[index]-df2.ϵ₀[index])\n",
    "\n",
    "@show sample_mean_multi_w₀\n",
    "@show population_mean_w0\n",
    "\n",
    "@show sample_mean_multi_w₁\n",
    "@show population_mean_w1"
   ]
  },
  {
   "cell_type": "markdown",
   "metadata": {},
   "source": [
    "#####  <span style=\"color:#D08770\">case 2: use the julia distribution packages<span>"
   ]
  },
  {
   "cell_type": "code",
   "execution_count": 95,
   "metadata": {},
   "outputs": [
    {
     "data": {
      "text/html": [
       "<div class=\"data-frame\"><p>10,000,000 rows × 6 columns</p><table class=\"data-frame\"><thead><tr><th></th><th>ϵ₁</th><th>ϵ₀</th><th>C</th><th>w₁</th><th>w₀</th><th>I</th></tr><tr><th></th><th title=\"Float64\">Float64</th><th title=\"Float64\">Float64</th><th title=\"Int64\">Int64</th><th title=\"Float64\">Float64</th><th title=\"Float64\">Float64</th><th title=\"Bool\">Bool</th></tr></thead><tbody><tr><th>1</th><td>-1.13791</td><td>-1.07418</td><td>20</td><td>421.342</td><td>400.162</td><td>1</td></tr><tr><th>2</th><td>0.782377</td><td>-0.0268876</td><td>20</td><td>421.342</td><td>400.162</td><td>1</td></tr><tr><th>3</th><td>-1.71494</td><td>-1.53429</td><td>20</td><td>421.342</td><td>400.162</td><td>1</td></tr><tr><th>4</th><td>-0.37214</td><td>-0.226289</td><td>20</td><td>421.342</td><td>400.162</td><td>1</td></tr><tr><th>5</th><td>2.21762</td><td>1.06283</td><td>20</td><td>421.342</td><td>400.162</td><td>1</td></tr><tr><th>6</th><td>-0.163388</td><td>-0.0770419</td><td>20</td><td>421.342</td><td>400.162</td><td>1</td></tr><tr><th>7</th><td>1.23549</td><td>0.277924</td><td>20</td><td>421.342</td><td>400.162</td><td>1</td></tr><tr><th>8</th><td>-0.199465</td><td>0.50329</td><td>20</td><td>421.342</td><td>400.162</td><td>1</td></tr><tr><th>9</th><td>0.438377</td><td>0.425563</td><td>20</td><td>421.342</td><td>400.162</td><td>1</td></tr><tr><th>10</th><td>0.103871</td><td>0.134397</td><td>20</td><td>421.342</td><td>400.162</td><td>1</td></tr><tr><th>11</th><td>0.497673</td><td>0.27564</td><td>20</td><td>421.342</td><td>400.162</td><td>1</td></tr><tr><th>12</th><td>-3.35625</td><td>-2.03158</td><td>20</td><td>421.342</td><td>400.162</td><td>1</td></tr><tr><th>13</th><td>0.328451</td><td>-0.00797158</td><td>20</td><td>421.342</td><td>400.162</td><td>1</td></tr><tr><th>14</th><td>-2.74757</td><td>-1.39714</td><td>20</td><td>421.342</td><td>400.162</td><td>1</td></tr><tr><th>15</th><td>-0.1859</td><td>-0.114639</td><td>20</td><td>421.342</td><td>400.162</td><td>1</td></tr><tr><th>16</th><td>0.634506</td><td>0.46145</td><td>20</td><td>421.342</td><td>400.162</td><td>1</td></tr><tr><th>17</th><td>-1.331</td><td>-1.13036</td><td>20</td><td>421.342</td><td>400.162</td><td>1</td></tr><tr><th>18</th><td>1.72382</td><td>1.24433</td><td>20</td><td>421.342</td><td>400.162</td><td>1</td></tr><tr><th>19</th><td>-0.803166</td><td>0.199151</td><td>20</td><td>421.342</td><td>400.162</td><td>1</td></tr><tr><th>20</th><td>1.20684</td><td>0.693692</td><td>20</td><td>421.342</td><td>400.162</td><td>1</td></tr><tr><th>21</th><td>0.669642</td><td>0.504311</td><td>20</td><td>421.342</td><td>400.162</td><td>1</td></tr><tr><th>22</th><td>-0.33237</td><td>0.292718</td><td>20</td><td>421.342</td><td>400.162</td><td>1</td></tr><tr><th>23</th><td>-0.0238318</td><td>-0.796265</td><td>20</td><td>421.342</td><td>400.162</td><td>1</td></tr><tr><th>24</th><td>-0.502776</td><td>0.0498636</td><td>20</td><td>421.342</td><td>400.162</td><td>1</td></tr><tr><th>&vellip;</th><td>&vellip;</td><td>&vellip;</td><td>&vellip;</td><td>&vellip;</td><td>&vellip;</td><td>&vellip;</td></tr></tbody></table></div>"
      ],
      "text/latex": [
       "\\begin{tabular}{r|cccccc}\n",
       "\t& ϵ₁ & ϵ₀ & C & w₁ & w₀ & I\\\\\n",
       "\t\\hline\n",
       "\t& Float64 & Float64 & Int64 & Float64 & Float64 & Bool\\\\\n",
       "\t\\hline\n",
       "\t1 & -1.13791 & -1.07418 & 20 & 421.342 & 400.162 & 1 \\\\\n",
       "\t2 & 0.782377 & -0.0268876 & 20 & 421.342 & 400.162 & 1 \\\\\n",
       "\t3 & -1.71494 & -1.53429 & 20 & 421.342 & 400.162 & 1 \\\\\n",
       "\t4 & -0.37214 & -0.226289 & 20 & 421.342 & 400.162 & 1 \\\\\n",
       "\t5 & 2.21762 & 1.06283 & 20 & 421.342 & 400.162 & 1 \\\\\n",
       "\t6 & -0.163388 & -0.0770419 & 20 & 421.342 & 400.162 & 1 \\\\\n",
       "\t7 & 1.23549 & 0.277924 & 20 & 421.342 & 400.162 & 1 \\\\\n",
       "\t8 & -0.199465 & 0.50329 & 20 & 421.342 & 400.162 & 1 \\\\\n",
       "\t9 & 0.438377 & 0.425563 & 20 & 421.342 & 400.162 & 1 \\\\\n",
       "\t10 & 0.103871 & 0.134397 & 20 & 421.342 & 400.162 & 1 \\\\\n",
       "\t11 & 0.497673 & 0.27564 & 20 & 421.342 & 400.162 & 1 \\\\\n",
       "\t12 & -3.35625 & -2.03158 & 20 & 421.342 & 400.162 & 1 \\\\\n",
       "\t13 & 0.328451 & -0.00797158 & 20 & 421.342 & 400.162 & 1 \\\\\n",
       "\t14 & -2.74757 & -1.39714 & 20 & 421.342 & 400.162 & 1 \\\\\n",
       "\t15 & -0.1859 & -0.114639 & 20 & 421.342 & 400.162 & 1 \\\\\n",
       "\t16 & 0.634506 & 0.46145 & 20 & 421.342 & 400.162 & 1 \\\\\n",
       "\t17 & -1.331 & -1.13036 & 20 & 421.342 & 400.162 & 1 \\\\\n",
       "\t18 & 1.72382 & 1.24433 & 20 & 421.342 & 400.162 & 1 \\\\\n",
       "\t19 & -0.803166 & 0.199151 & 20 & 421.342 & 400.162 & 1 \\\\\n",
       "\t20 & 1.20684 & 0.693692 & 20 & 421.342 & 400.162 & 1 \\\\\n",
       "\t21 & 0.669642 & 0.504311 & 20 & 421.342 & 400.162 & 1 \\\\\n",
       "\t22 & -0.33237 & 0.292718 & 20 & 421.342 & 400.162 & 1 \\\\\n",
       "\t23 & -0.0238318 & -0.796265 & 20 & 421.342 & 400.162 & 1 \\\\\n",
       "\t24 & -0.502776 & 0.0498636 & 20 & 421.342 & 400.162 & 1 \\\\\n",
       "\t$\\dots$ & $\\dots$ & $\\dots$ & $\\dots$ & $\\dots$ & $\\dots$ & $\\dots$ \\\\\n",
       "\\end{tabular}\n"
      ],
      "text/plain": [
       "\u001b[1m10000000×6 DataFrame\u001b[0m\n",
       "\u001b[1m      Row \u001b[0m│\u001b[1m ϵ₁         \u001b[0m\u001b[1m ϵ₀         \u001b[0m\u001b[1m C     \u001b[0m\u001b[1m w₁      \u001b[0m\u001b[1m w₀      \u001b[0m\u001b[1m I    \u001b[0m\n",
       "\u001b[1m          \u001b[0m│\u001b[90m Float64    \u001b[0m\u001b[90m Float64    \u001b[0m\u001b[90m Int64 \u001b[0m\u001b[90m Float64 \u001b[0m\u001b[90m Float64 \u001b[0m\u001b[90m Bool \u001b[0m\n",
       "──────────┼───────────────────────────────────────────────────────\n",
       "        1 │ -1.13791    -1.07418       20  421.342  400.162  true\n",
       "        2 │  0.782377   -0.0268876     20  421.342  400.162  true\n",
       "        3 │ -1.71494    -1.53429       20  421.342  400.162  true\n",
       "        4 │ -0.37214    -0.226289      20  421.342  400.162  true\n",
       "        5 │  2.21762     1.06283       20  421.342  400.162  true\n",
       "        6 │ -0.163388   -0.0770419     20  421.342  400.162  true\n",
       "        7 │  1.23549     0.277924      20  421.342  400.162  true\n",
       "        8 │ -0.199465    0.50329       20  421.342  400.162  true\n",
       "    ⋮     │     ⋮           ⋮         ⋮       ⋮        ⋮      ⋮\n",
       "  9999994 │  1.09144     0.956425      20  421.342  400.162  true\n",
       "  9999995 │  0.323172   -0.798426      20  421.342  400.162  true\n",
       "  9999996 │  0.324459    0.0715707     20  421.342  400.162  true\n",
       "  9999997 │ -0.885798   -1.18984       20  421.342  400.162  true\n",
       "  9999998 │  1.15012    -0.48106       20  421.342  400.162  true\n",
       "  9999999 │ -0.35536    -0.19422       20  421.342  400.162  true\n",
       " 10000000 │ -1.2796     -0.246313      20  421.342  400.162  true\n",
       "\u001b[36m                                              9999985 rows omitted\u001b[0m"
      ]
     },
     "metadata": {},
     "output_type": "display_data"
    }
   ],
   "source": [
    "μ = zeros(2)\n",
    "Σ = [σ₁^2 σ₀₁; σ₀₁ σ₀^2]\n",
    "draw = rand(MvNormal(μ, Σ), n)\n",
    "df3 = DataFrame(ϵ₁=draw[1, :], ϵ₀=draw[2, :], C=C, w₁=μ₁.+ϵ₁, w₀=μ₀.+ϵ₀)\n",
    "df3.I = df3.w₁ - df3.C .>= df3.w₀\n",
    "\n",
    "df3 |> display\n",
    "\n",
    "target = df3.I .== 1;"
   ]
  },
  {
   "cell_type": "code",
   "execution_count": 96,
   "metadata": {},
   "outputs": [
    {
     "name": "stdout",
     "output_type": "stream",
     "text": [
      "sample_mean_multi_w₀ = mean(df3.w₀[target]) = 400.16160215689933\n",
      "population_mean_w0 = 399.987213974369\n",
      "sample_mean_multi_w₁ = mean(df3.w₁[target]) = 421.34206865857374\n",
      "population_mean_w1 = 419.9197967483148\n"
     ]
    },
    {
     "data": {
      "text/plain": [
       "419.9197967483148"
      ]
     },
     "metadata": {},
     "output_type": "display_data"
    }
   ],
   "source": [
    "@show sample_mean_multi_w₀ = mean(df3.w₀[target])\n",
    "@show population_mean_w0\n",
    "\n",
    "@show sample_mean_multi_w₁ = mean(df3.w₁[target])\n",
    "@show population_mean_w1"
   ]
  }
 ],
 "metadata": {
  "kernelspec": {
   "display_name": "Julia 1.7.0",
   "language": "julia",
   "name": "julia-1.7"
  },
  "language_info": {
   "file_extension": ".jl",
   "mimetype": "application/julia",
   "name": "julia",
   "version": "1.7.0"
  }
 },
 "nbformat": 4,
 "nbformat_minor": 4
}
